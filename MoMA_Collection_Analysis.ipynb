{
 "cells": [
  {
   "cell_type": "markdown",
   "metadata": {},
   "source": [
    "## 1. PySpark environment setup"
   ]
  },
  {
   "cell_type": "code",
   "execution_count": 1,
   "metadata": {},
   "outputs": [],
   "source": [
    "import findspark\n",
    "findspark.init()\n",
    "\n",
    "from pyspark.context import SparkContext\n",
    "from pyspark.sql.session import SparkSession\n",
    "\n",
    "sc = SparkContext.getOrCreate()\n",
    "spark = SparkSession(sc)"
   ]
  },
  {
   "cell_type": "markdown",
   "metadata": {},
   "source": [
    "## 2. Data sources and Spark data abstraction (DataFrame) setup"
   ]
  },
  {
   "cell_type": "markdown",
   "metadata": {},
   "source": [
    "### A. Artworks Data Loading"
   ]
  },
  {
   "cell_type": "code",
   "execution_count": 2,
   "metadata": {},
   "outputs": [],
   "source": [
    "artworksDF = spark.read \\\n",
    "                 .option(\"inferSchema\", \"true\") \\\n",
    "                 .option(\"header\", \"true\") \\\n",
    "                 .csv(\"moma_artworks.csv\")"
   ]
  },
  {
   "cell_type": "markdown",
   "metadata": {},
   "source": [
    "### B. Artists Data Loading"
   ]
  },
  {
   "cell_type": "code",
   "execution_count": 3,
   "metadata": {},
   "outputs": [],
   "source": [
    "artistsDF = spark.read \\\n",
    "                 .option(\"inferSchema\", \"true\") \\\n",
    "                 .option(\"header\", \"true\") \\\n",
    "                 .csv(\"artists.csv\")"
   ]
  },
  {
   "cell_type": "markdown",
   "metadata": {},
   "source": [
    "## 3. Data set metadata analysis\n",
    "### A. Artworks data schema and size"
   ]
  },
  {
   "cell_type": "code",
   "execution_count": 4,
   "metadata": {},
   "outputs": [
    {
     "name": "stdout",
     "output_type": "stream",
     "text": [
      "root\n",
      " |-- Artwork ID: string (nullable = true)\n",
      " |-- Title: string (nullable = true)\n",
      " |-- Artist ID: string (nullable = true)\n",
      " |-- Name: string (nullable = true)\n",
      " |-- Date: string (nullable = true)\n",
      " |-- Medium: string (nullable = true)\n",
      " |-- Dimensions: string (nullable = true)\n",
      " |-- Acquisition Date: string (nullable = true)\n",
      " |-- Credit: string (nullable = true)\n",
      " |-- Catalogue: string (nullable = true)\n",
      " |-- Department: string (nullable = true)\n",
      " |-- Classification: string (nullable = true)\n",
      " |-- Object Number: string (nullable = true)\n",
      " |-- Diameter (cm): string (nullable = true)\n",
      " |-- Circumference (cm): string (nullable = true)\n",
      " |-- Height (cm): string (nullable = true)\n",
      " |-- Length (cm): string (nullable = true)\n",
      " |-- Width (cm): string (nullable = true)\n",
      " |-- Depth (cm): string (nullable = true)\n",
      " |-- Weight (kg): string (nullable = true)\n",
      " |-- Duration (s): string (nullable = true)\n",
      "\n"
     ]
    },
    {
     "data": {
      "text/markdown": [
       "This DataFrame of Artworks has **142853 rows**."
      ],
      "text/plain": [
       "<IPython.core.display.Markdown object>"
      ]
     },
     "metadata": {},
     "output_type": "display_data"
    }
   ],
   "source": [
    "from IPython.display import display, Markdown\n",
    "\n",
    "artworksDF.printSchema()\n",
    "display(Markdown(\"This DataFrame of Artworks has **%d rows**.\" % artworksDF.count()))"
   ]
  },
  {
   "cell_type": "markdown",
   "metadata": {},
   "source": [
    "### B. Get one or multiple random samples from the artworks dataset"
   ]
  },
  {
   "cell_type": "code",
   "execution_count": 5,
   "metadata": {},
   "outputs": [
    {
     "data": {
      "text/plain": [
       "[Row(Artwork ID='7', Title='The Manhattan Transcripts Project, New York, New York, Episode 1: The Park', Artist ID='7056', Name='Bernard Tschumi', Date='1976-77', Medium='Gelatin silver photograph', Dimensions='\"14 x 18\"\" (35.6 x 45.7 cm)\"', Acquisition Date='1995-01-17', Credit='Purchase and partial gift of the architect in honor of Lily Auchincloss', Catalogue='Y', Department='Architecture & Design', Classification='Architecture', Object Number='3.1995.1', Diameter (cm)=None, Circumference (cm)=None, Height (cm)='35.6', Length (cm)=None, Width (cm)='45.7', Depth (cm)=None, Weight (kg)=None, Duration (s)=None),\n",
       " Row(Artwork ID='17', Title='The Manhattan Transcripts Project, New York, New York, Episode 1: The Park', Artist ID='7056', Name='Bernard Tschumi', Date='1976-77', Medium='Gelatin silver photograph', Dimensions='\"14 x 18\"\" (35.6 x 45.7 cm)\"', Acquisition Date='1995-01-17', Credit='Purchase and partial gift of the architect in honor of Lily Auchincloss', Catalogue='Y', Department='Architecture & Design', Classification='Architecture', Object Number='3.1995.18', Diameter (cm)=None, Circumference (cm)=None, Height (cm)='35.6', Length (cm)=None, Width (cm)='45.7', Depth (cm)=None, Weight (kg)=None, Duration (s)=None)]"
      ]
     },
     "execution_count": 5,
     "metadata": {},
     "output_type": "execute_result"
    }
   ],
   "source": [
    "artworksDF.cache() # optimization to make the processing faster\n",
    "artworksDF.sample(False, 0.1).take(2) # 10% sampling"
   ]
  },
  {
   "cell_type": "markdown",
   "metadata": {},
   "source": [
    "### C. Artists data schema and size"
   ]
  },
  {
   "cell_type": "code",
   "execution_count": 6,
   "metadata": {
    "scrolled": true
   },
   "outputs": [
    {
     "name": "stdout",
     "output_type": "stream",
     "text": [
      "root\n",
      " |-- Artist ID: integer (nullable = true)\n",
      " |-- Name: string (nullable = true)\n",
      " |-- Nationality: string (nullable = true)\n",
      " |-- Gender: string (nullable = true)\n",
      " |-- Birth Year: integer (nullable = true)\n",
      " |-- Death Year: integer (nullable = true)\n",
      "\n"
     ]
    },
    {
     "data": {
      "text/markdown": [
       "This DataFrame of Artists has **15091 rows**."
      ],
      "text/plain": [
       "<IPython.core.display.Markdown object>"
      ]
     },
     "metadata": {},
     "output_type": "display_data"
    }
   ],
   "source": [
    "from IPython.display import display, Markdown\n",
    "\n",
    "artistsDF.printSchema()\n",
    "\n",
    "display(Markdown(\"This DataFrame of Artists has **%d rows**.\" % artistsDF.count()))"
   ]
  },
  {
   "cell_type": "markdown",
   "metadata": {},
   "source": [
    "### D. Get one or multiple random samples from the artists dataset"
   ]
  },
  {
   "cell_type": "code",
   "execution_count": 193,
   "metadata": {},
   "outputs": [
    {
     "data": {
      "text/plain": [
       "[Row(Artist ID=3, Name='Bill Arnold', Nationality='American', Gender='Male', Birth Year=1941, Death Year=None),\n",
       " Row(Artist ID=33, Name='A.A.P.', Nationality='American', Gender=None, Birth Year=None, Death Year=None)]"
      ]
     },
     "execution_count": 193,
     "metadata": {},
     "output_type": "execute_result"
    }
   ],
   "source": [
    "artistsDF.cache() # optimization to make the processing faster\n",
    "artistsDF.sample(False, 0.1).take(2) # 10% sampling"
   ]
  },
  {
   "cell_type": "markdown",
   "metadata": {},
   "source": [
    "### E. Data entities, metrics and dimensions\n",
    "\n",
    "For our analysis the following elements are identified:\n",
    "\n",
    "* **Entities:** Artwork (main one which is measured - facts), Artist (dimension - is also measured)\n",
    "* **Metrics:**  Date, Height, Weight, Width, Diameter, Acqusition Date,  ...\n",
    "* **Dimensions:** Artwork ID, Title, Department, Classification, Artist ID, Name, Nationality, Gender, ...\n",
    "\n",
    "### F. Column categorization\n",
    "\n",
    "The following could be a potential column categorization:\n",
    "\n",
    "* **Artwork related columns:** *Date*, *Acqusition Date*, *Medium*, *Dimensions*, *Weight*, *Height*, *Diameter* and *Width (cm)*\n",
    "* **Artist related columns:** *Nation*, *Gender*, *Birth Year* and *Death Year*\n",
    "\n",
    "## 4. Columns groups basic profiling to better understand our dataset\n",
    "### A. Artwork related columns basic profiling"
   ]
  },
  {
   "cell_type": "code",
   "execution_count": 7,
   "metadata": {},
   "outputs": [
    {
     "name": "stdout",
     "output_type": "stream",
     "text": [
      "Checking for nulls on Artwork ID, Date, Department, Classification, Medium, Acquisition Date:\n",
      "+----------+----+----------+--------------+------+----------------+\n",
      "|Artwork ID|Date|Department|Classification|Medium|Acquisition Date|\n",
      "+----------+----+----------+--------------+------+----------------+\n",
      "|         0|7696|     23175|         16965| 17292|           26526|\n",
      "+----------+----+----------+--------------+------+----------------+\n",
      "\n",
      "Checking for nulls on Dimensions, Weight, Height, Width, Diameter:\n",
      "+----------+-----------+-----------+----------+-------------+\n",
      "|Dimensions|Weight (kg)|Height (cm)|Width (cm)|Diameter (cm)|\n",
      "+----------+-----------+-----------+----------+-------------+\n",
      "|     17842|     142202|      42273|     42852|       140645|\n",
      "+----------+-----------+-----------+----------+-------------+\n",
      "\n"
     ]
    }
   ],
   "source": [
    "from IPython.display import display, Markdown\n",
    "from pyspark.sql.functions import when, count, col, countDistinct, desc, first, lit\n",
    "\n",
    "\n",
    "print(\"Checking for nulls on Artwork ID, Date, Department, Classification, Medium, Acquisition Date:\")\n",
    "artworksDF.select([count(when(col(c).isNull(), c)).alias(c) for c in [\"Artwork ID\", \"Date\", \"Department\", \"Classification\" \\\n",
    "                                                                     , \"Medium\", \"Acquisition Date\"]]).show()\n",
    "\n",
    "print(\"Checking for nulls on Dimensions, Weight, Height, Width, Diameter:\")\n",
    "artworksDF.select([count(when(col(c).isNull(), c)).alias(c) for c in [\"Dimensions\", \"Weight (kg)\", \"Height (cm)\", \\\n",
    "                                                                     \"Width (cm)\", \"Diameter (cm)\"]]).show()"
   ]
  },
  {
   "cell_type": "markdown",
   "metadata": {},
   "source": [
    "### B. Artist related columns basic profiling"
   ]
  },
  {
   "cell_type": "code",
   "execution_count": 205,
   "metadata": {},
   "outputs": [
    {
     "name": "stdout",
     "output_type": "stream",
     "text": [
      "Checking for nulls on Nationality, Name, Artist ID, Gender, Birth Year, Death Year:\n",
      "+-----------+----+----------+----------+---------+------+\n",
      "|Nationality|Name|Birth Year|Death Year|Artist ID|Gender|\n",
      "+-----------+----+----------+----------+---------+------+\n",
      "|       2487|   0|      3854|     10512|        0|  3072|\n",
      "+-----------+----+----------+----------+---------+------+\n",
      "\n"
     ]
    }
   ],
   "source": [
    "from IPython.display import display, Markdown\n",
    "from pyspark.sql.functions import when, count, col, countDistinct, desc, first, lit\n",
    "\n",
    "print(\"Checking for nulls on Nationality, Name, Artist ID, Gender, Birth Year, Death Year:\")\n",
    "artistsDF.select([count(when(col(c).isNull(), c)).alias(c) for c in [\"Nationality\",\"Name\",\\\n",
    "                                                                     \"Birth Year\", \"Death Year\",\"Artist ID\",\"Gender\"]]).show()"
   ]
  },
  {
   "cell_type": "code",
   "execution_count": 8,
   "metadata": {
    "scrolled": true
   },
   "outputs": [
    {
     "name": "stdout",
     "output_type": "stream",
     "text": [
      "Checking number of distinct values in columns Artist Name and Nationality:\n",
      "+-----+-----------+\n",
      "| Name|Nationality|\n",
      "+-----+-----------+\n",
      "|15039|        126|\n",
      "+-----+-----------+\n",
      "\n"
     ]
    }
   ],
   "source": [
    "print(\"Checking number of distinct values in columns Artist Name and Nationality:\")\n",
    "artistsDF.select([countDistinct(c).alias(c) for c in [\"Name\", \"Nationality\"]]).show()"
   ]
  },
  {
   "cell_type": "markdown",
   "metadata": {},
   "source": [
    "### C. Modifications on datasets to get them better fit for analysis"
   ]
  },
  {
   "cell_type": "code",
   "execution_count": 9,
   "metadata": {},
   "outputs": [
    {
     "name": "stdout",
     "output_type": "stream",
     "text": [
      "root\n",
      " |-- Artist ID: integer (nullable = true)\n",
      " |-- Artist Name: string (nullable = true)\n",
      " |-- Nationality: string (nullable = true)\n",
      " |-- Gender: string (nullable = true)\n",
      " |-- Birth Year: integer (nullable = true)\n",
      " |-- Death Year: integer (nullable = true)\n",
      "\n"
     ]
    },
    {
     "data": {
      "text/markdown": [
       "**Name** column of Artworks Dataframe is modified as **Artist Name**."
      ],
      "text/plain": [
       "<IPython.core.display.Markdown object>"
      ]
     },
     "metadata": {},
     "output_type": "display_data"
    }
   ],
   "source": [
    "from IPython.display import display, Markdown\n",
    "from pyspark.sql.functions import *\n",
    "\n",
    "# To make clearer and distinguish Name of Artist from Name of Artwork, column is renamed as below:\n",
    "\n",
    "artistsDF_renamed = artistsDF.withColumnRenamed(\"Name\", \"Artist Name\")\n",
    "\n",
    "artistsDF_renamed.printSchema()\n",
    "\n",
    "display(Markdown(\"**Name** column of Artworks Dataframe is modified as **Artist Name**.\" ))"
   ]
  },
  {
   "cell_type": "code",
   "execution_count": 13,
   "metadata": {},
   "outputs": [
    {
     "name": "stdout",
     "output_type": "stream",
     "text": [
      "root\n",
      " |-- Artist ID: string (nullable = true)\n",
      " |-- Artwork ID: string (nullable = true)\n",
      " |-- Title: string (nullable = true)\n",
      " |-- Name: string (nullable = true)\n",
      " |-- Date: string (nullable = true)\n",
      " |-- Medium: string (nullable = true)\n",
      " |-- Dimensions: string (nullable = true)\n",
      " |-- Acquisition Date: string (nullable = true)\n",
      " |-- Credit: string (nullable = true)\n",
      " |-- Catalogue: string (nullable = true)\n",
      " |-- Department: string (nullable = true)\n",
      " |-- Classification: string (nullable = true)\n",
      " |-- Object Number: string (nullable = true)\n",
      " |-- Diameter (cm): string (nullable = true)\n",
      " |-- Circumference (cm): string (nullable = true)\n",
      " |-- Height (cm): string (nullable = true)\n",
      " |-- Length (cm): string (nullable = true)\n",
      " |-- Width (cm): string (nullable = true)\n",
      " |-- Depth (cm): string (nullable = true)\n",
      " |-- Weight (kg): string (nullable = true)\n",
      " |-- Duration (s): string (nullable = true)\n",
      " |-- Artist Name: string (nullable = true)\n",
      " |-- Nationality: string (nullable = true)\n",
      " |-- Gender: string (nullable = true)\n",
      " |-- Birth Year: integer (nullable = true)\n",
      " |-- Death Year: integer (nullable = true)\n",
      "\n"
     ]
    },
    {
     "data": {
      "text/markdown": [
       "Datasets are combined by column **Artist ID**"
      ],
      "text/plain": [
       "<IPython.core.display.Markdown object>"
      ]
     },
     "metadata": {},
     "output_type": "display_data"
    }
   ],
   "source": [
    "from IPython.display import display, Markdown\n",
    "from pyspark.sql.functions import *\n",
    "\n",
    "# Datasets are combined to conduct comprehensible query \n",
    "\n",
    "joinedDF = artworksDF.join(artistsDF_renamed, \"Artist ID\")\n",
    "\n",
    "joinedDF.printSchema()\n",
    "\n",
    "joinedDF.head()\n",
    "\n",
    "display(Markdown(\"Datasets are combined by column **Artist ID**\" ))"
   ]
  },
  {
   "cell_type": "markdown",
   "metadata": {},
   "source": [
    "### D. Continue Basic Profiling in order to Grasp Better Understanding about the Collection"
   ]
  },
  {
   "cell_type": "code",
   "execution_count": 14,
   "metadata": {},
   "outputs": [
    {
     "data": {
      "text/markdown": [
       "**Top 10 Nationalities** of Artists Contributed to the Collection:"
      ],
      "text/plain": [
       "<IPython.core.display.Markdown object>"
      ]
     },
     "metadata": {},
     "output_type": "display_data"
    },
    {
     "name": "stdout",
     "output_type": "stream",
     "text": [
      "+-------------------+-----+\n",
      "|        Nationality|Total|\n",
      "+-------------------+-----+\n",
      "|           American| 5198|\n",
      "|             German|  930|\n",
      "|             French|  839|\n",
      "|            British|  835|\n",
      "|            Italian|  531|\n",
      "|           Japanese|  498|\n",
      "|              Swiss|  280|\n",
      "|              Dutch|  265|\n",
      "|Nationality unknown|  255|\n",
      "|           Austrian|  243|\n",
      "+-------------------+-----+\n",
      "only showing top 10 rows\n",
      "\n"
     ]
    }
   ],
   "source": [
    "from IPython.display import display, Markdown\n",
    "from pyspark.sql.functions import when, count, col, countDistinct, desc, first, lit\n",
    "\n",
    "nationsDF = artistsDF.groupBy(\"Nationality\").agg(count(lit(1)).alias(\"Total\"))\n",
    "\n",
    "display(Markdown(\"**Top 10 Nationalities** of Artists Contributed to the Collection:\" ))\n",
    "\n",
    "nationsDF.where(col(\"Nationality\")!=\"NA\").orderBy(col(\"Total\").desc()).show(10)"
   ]
  },
  {
   "cell_type": "code",
   "execution_count": 15,
   "metadata": {},
   "outputs": [
    {
     "data": {
      "text/markdown": [
       "The **Most Productive Artists** of MoMA with gender info:"
      ],
      "text/plain": [
       "<IPython.core.display.Markdown object>"
      ]
     },
     "metadata": {},
     "output_type": "display_data"
    },
    {
     "name": "stdout",
     "output_type": "stream",
     "text": [
      "+--------------------+------+----------------+\n",
      "|         Artist Name|Gender|Number of Pieces|\n",
      "+--------------------+------+----------------+\n",
      "|        Eugène Atget|  Male|            5049|\n",
      "|    Louise Bourgeois|Female|            3318|\n",
      "|Ludwig Mies van d...|  Male|            2533|\n",
      "|       Jean Dubuffet|  Male|            1434|\n",
      "|     Lee Friedlander|  Male|            1313|\n",
      "|       Pablo Picasso|  Male|            1292|\n",
      "|        Marc Chagall|  Male|            1154|\n",
      "|       Henri Matisse|  Male|            1061|\n",
      "|      Pierre Bonnard|  Male|             894|\n",
      "|         Lilly Reich|Female|             807|\n",
      "|  Frank Lloyd Wright|  Male|             785|\n",
      "|     George Maciunas|  Male|             758|\n",
      "|       August Sander|  Male|             749|\n",
      "|       Émile Bernard|  Male|             631|\n",
      "|     Georges Rouault|  Male|             603|\n",
      "|         Ben Kinmont|  Male|             597|\n",
      "|    Aristide Maillol|  Male|             579|\n",
      "|        André Derain|  Male|             573|\n",
      "|          Sol LeWitt|  Male|             557|\n",
      "|          Raoul Dufy|  Male|             545|\n",
      "+--------------------+------+----------------+\n",
      "only showing top 20 rows\n",
      "\n"
     ]
    }
   ],
   "source": [
    "from IPython.display import display, Markdown\n",
    "from pyspark.sql.functions import when, count, col, countDistinct, desc, first, lit\n",
    "\n",
    "artist_piecesDF = joinedDF.groupBy(\"Artist Name\", \"Gender\") \\\n",
    "                            .agg(count(\"*\").alias(\"Number of Pieces\"))\n",
    "\n",
    "display(Markdown(\"The **Most Productive Artists** of MoMA with gender info:\" ))\n",
    "\n",
    "artist_piecesDF.where(~col(\"Artist Name\") \\\n",
    "               .like(\"Unknown%\")).orderBy(col(\"Number of Pieces\").desc()).show(20)\n"
   ]
  },
  {
   "cell_type": "code",
   "execution_count": 16,
   "metadata": {},
   "outputs": [
    {
     "data": {
      "text/markdown": [
       "**The richest departments in terms of Art Pieces Type** of MoMA:"
      ],
      "text/plain": [
       "<IPython.core.display.Markdown object>"
      ]
     },
     "metadata": {},
     "output_type": "display_data"
    },
    {
     "name": "stdout",
     "output_type": "stream",
     "text": [
      "+--------------------+----------------+\n",
      "|          Department|Number of Pieces|\n",
      "+--------------------+----------------+\n",
      "|Prints & Illustra...|           51803|\n",
      "|         Photography|           26048|\n",
      "|Architecture & De...|           13796|\n",
      "|            Drawings|            9966|\n",
      "|Painting & Sculpture|            3537|\n",
      "|                Film|            2314|\n",
      "|Media and Perform...|            2100|\n",
      "|   Fluxus Collection|            1415|\n",
      "+--------------------+----------------+\n",
      "only showing top 8 rows\n",
      "\n"
     ]
    }
   ],
   "source": [
    "from IPython.display import display, Markdown\n",
    "from pyspark.sql.functions import when, count, col, countDistinct, desc, first, lit\n",
    "\n",
    "display(Markdown(\"**The richest departments in terms of Art Pieces Type** of MoMA:\" ))\n",
    "\n",
    "joinedDF.where(col(\"Department\")!=\"NA\").groupBy(\"Department\") \\\n",
    "          .agg(count(\"*\").alias(\"Number of Pieces\")).orderBy(col(\"Number of Pieces\").desc()).show(8)\n"
   ]
  },
  {
   "cell_type": "code",
   "execution_count": 232,
   "metadata": {},
   "outputs": [
    {
     "data": {
      "text/markdown": [
       "This table shows **the richest collections in terms of Art Pieces Type** of MoMA:"
      ],
      "text/plain": [
       "<IPython.core.display.Markdown object>"
      ]
     },
     "metadata": {},
     "output_type": "display_data"
    },
    {
     "name": "stdout",
     "output_type": "stream",
     "text": [
      "+--------------------+----------------+\n",
      "|      Classification|Number of Pieces|\n",
      "+--------------------+----------------+\n",
      "|          Photograph|           26569|\n",
      "|               Print|           25617|\n",
      "|    Illustrated Book|           23722|\n",
      "|             Drawing|           10575|\n",
      "|              Design|            9044|\n",
      "|            Painting|            2187|\n",
      "|        Architecture|            2106|\n",
      "|Mies van der Rohe...|            1946|\n",
      "+--------------------+----------------+\n",
      "only showing top 8 rows\n",
      "\n"
     ]
    }
   ],
   "source": [
    "from IPython.display import display, Markdown\n",
    "from pyspark.sql.functions import when, count, col, countDistinct, desc, first, lit\n",
    "\n",
    "display(Markdown(\"This table shows **the richest collections in terms of Art Pieces Type** of MoMA:\" ))\n",
    "\n",
    "joinedDF.where(col(\"Classification\")!=\"NA\").groupBy(\"Classification\") \\\n",
    "          .agg(count(\"*\").alias(\"Number of Pieces\")).orderBy(col(\"Number of Pieces\").desc()).show(8)\n"
   ]
  },
  {
   "cell_type": "markdown",
   "metadata": {},
   "source": [
    "## 5. Answer some business questions to help establishing the new exhibition\n",
    "\n",
    "### A. Number of Paintings for Highlighted Artists of the Department, with nations and genders"
   ]
  },
  {
   "cell_type": "code",
   "execution_count": 21,
   "metadata": {},
   "outputs": [
    {
     "name": "stdout",
     "output_type": "stream",
     "text": [
      "+-------------------+-----------+------+-----+\n",
      "|        Artist Name|Nationality|Gender|Total|\n",
      "+-------------------+-----------+------+-----+\n",
      "|   Louise Bourgeois|   American|Female| 3234|\n",
      "|      Jean Dubuffet|     French|  Male| 1209|\n",
      "|      Pablo Picasso|    Spanish|  Male| 1173|\n",
      "|       Marc Chagall|     French|  Male| 1048|\n",
      "|      Henri Matisse|     French|  Male|  994|\n",
      "|     Pierre Bonnard|     French|  Male|  874|\n",
      "|      Émile Bernard|     French|  Male|  630|\n",
      "|        Ben Kinmont|   American|  Male|  587|\n",
      "|   Aristide Maillol|     French|  Male|  563|\n",
      "|       André Derain|     French|  Male|  554|\n",
      "|    Georges Rouault|     French|  Male|  544|\n",
      "|         Raoul Dufy|     French|  Male|  522|\n",
      "|         Sol LeWitt|   American|  Male|  494|\n",
      "|      Maurice Denis|     French|  Male|  493|\n",
      "|          Joan Miró|    Spanish|  Male|  393|\n",
      "|    George Maciunas|   American|  Male|  386|\n",
      "|  Pierre Alechinsky|    Belgian|  Male|  356|\n",
      "|      Thomas Bewick|    British|  Male|  323|\n",
      "|       Jasper Johns|   American|  Male|  306|\n",
      "|Christian Boltanski|     French|  Male|  294|\n",
      "+-------------------+-----------+------+-----+\n",
      "\n"
     ]
    }
   ],
   "source": [
    "from IPython.display import display, Markdown\n",
    "from pyspark.sql.functions import when, count, col, countDistinct, desc, first, lit\n",
    "\n",
    "joinedDF.where(col(\"Department\")\\\n",
    "          .like(\"Prints & Ill%\") | col(\"Department\")\\\n",
    "          .like(\"Painting%\")).groupBy(\"Artist Name\", \"Nationality\", \"Gender\") \\\n",
    "          .agg(count(\"*\").alias(\"Total\")).orderBy(col(\"Total\").desc()).limit(20).show()\n"
   ]
  },
  {
   "cell_type": "markdown",
   "metadata": {},
   "source": [
    "### B. How the Paintings from Modern Era are distributed based on 'Artistic Style of Period':"
   ]
  },
  {
   "cell_type": "code",
   "execution_count": 19,
   "metadata": {},
   "outputs": [],
   "source": [
    "# In order to select 'paintings', relevant values are filtered from 'Department' and 'Classification'\n",
    "# A subset is created to facilitate analysis\n",
    "\n",
    "plasticArtsDF = artworksDF.filter((col(\"Department\")==\"Painting & Sculpture\") & (col(\"Classification\")==\"Painting\")\\\n",
    "                                  | (col(\"Department\").like(\"%Illustrat%\")) & (col(\"Classification\")==\"Painting\"))"
   ]
  },
  {
   "cell_type": "code",
   "execution_count": 22,
   "metadata": {},
   "outputs": [],
   "source": [
    "from pyspark.sql.functions import count, round\n",
    "\n",
    "# From invaluable.com/blog/art-history-timeline/ modern artworks are categorized as follows:\n",
    "#   \"Impressionism\"      - 1865s-1900s\n",
    "#   \"Fauvism\"            - 1900s-1920s\n",
    "# ...\n",
    "# This categorization is made based on years and artists of the era\n",
    "\n",
    "plasticArtsStylesDF = plasticArtsDF\\\n",
    "   .withColumn(\"Style of Period\", when((col(\"Date\").like(\"%186%\") | col(\"Date\").like(\"%187%\") | col(\"Date\").like(\"%188%\")\\\n",
    "                                  | col(\"Date\").like(\"189%\") | col(\"Date\").like(\"%190%\")) & (col(\"Name\").like(\"%Monet%\")\\\n",
    "                                  | col(\"Name\").like(\"%Manet%\") | col(\"Name\").like(\"%Degas%\")| col(\"Name\").like(\"%Renoir%\")\\\n",
    "                                  | col(\"Name\").like(\"%zanne%\") | col(\"Name\").like(\"%Seurat%\") | col(\"Name\").like(\"%Utrillo%\")\\\n",
    "                                  | col(\"Name\").like(\"%Gauguin%\")| col(\"Name\").like(\"%Signac%\")| col(\"Name\").like(\"%Gogh%\"))\\\n",
    "                                  , \"Impressionism\")\\\n",
    "                                  .when((col(\"Date\").like(\"%190%\") | col(\"Date\").like(\"%191%\") | col(\"Date\").like(\"%192%\"))\\\n",
    "                                  & (col(\"Name\").like(\"%Matisse%\") | col(\"Name\").like(\"%Derain%\") | col(\"Name\")\\\n",
    "                                  .like(\"%Vlaminck%\") | col(\"Name\").like(\"%Dufy%\") | col(\"Name\").like(\"%Rouault%\")\\\n",
    "                                  | col(\"Name\").like(\"%Metzinger%\") | col(\"Name\").like(\"%Dongen%\")),\"Fauvism\")\\\n",
    "                                  .when((col(\"Date\").like(\"%190%\") | col(\"Date\").like(\"%191%\") | col(\"Date\").like(\"%192%\"))\\\n",
    "                                  & (col(\"Name\").like(\"%Gogh%\") | col(\"Name\").like(\"%Munch%\") | col(\"Name\").like(\"%Kandinsky%\")\\\n",
    "                                  | col(\"Name\").like(\"%Schiele%\") | col(\"Name\").like(\"%Bacon%\") | col(\"Name\").like(\"%Kirchner%\")\\\n",
    "                                  | col(\"Name\").like(\"%Marc%\") | col(\"Name\").like(\"%Klee%\") | col(\"Name\").like(\"%Nolde%\")\\\n",
    "                                  | col(\"Name\").like(\"%Freud%\") | col(\"Name\").like(\"%Chagall%\") | col(\"Name\").like(\"%Macke%\")\\\n",
    "                                  | col(\"Name\").like(\"%Kokoschka%\") | col(\"Name\").like(\"%Soutine%\") | col(\"Name\")\\\n",
    "                                  .like(\"%Giacometti%\") | col(\"Name\").like(\"%Buffet%\") | col(\"Name\").like(\"%Soutine%\"))\\\n",
    "                                  ,\"Expressionism\")\\\n",
    "                                  .when((col(\"Date\").like(\"%190%\") | col(\"Date\").like(\"%191%\")) & (col(\"Name\").like(\"%Picasso%\")\\\n",
    "                                  | col(\"Name\").like(\"%Braque%\") | col(\"Name\").like(\"%Gris%\") | col(\"Name\").like(\"%Gleizes%\")\\\n",
    "                                  | col(\"Name\").like(\"%Popova%\") | col(\"Name\").like(\"%Fernand L%\") | col(\"Name\")\\\n",
    "                                  .like(\"%Goncharova%\") | col(\"Name\").like(\"%Laurens%\")),\"Cubism\")\\\n",
    "                                  .when((col(\"Date\").like(\"%191%\") | col(\"Date\").like(\"%192%\") | col(\"Date\").like(\"%193%\")\\\n",
    "                                  | col(\"Date\").like(\"%194%\") | col(\"Date\").like(\"%195%\")) & (col(\"Name\").like(\"%Salvador D%\")\\\n",
    "                                  | col(\"Name\").like(\"%Magrit%\") | col(\"Name\").like(\"%Ernst%\")| col(\"Name\").like(\"%Tanguy%\")\\\n",
    "                                  | col(\"Name\").like(\"%Chirico%\") | col(\"Name\").like(\"%Kahlo%\") | col(\"Name\").like(\"%Joan M%\")\\\n",
    "                                  | col(\"Name\").like(\"%Duchamp%\") | col(\"Name\").like(\"%Man R%\")),\"Surrealism\")\\\n",
    "                                  .when((col(\"Date\").like(\"%194%\") | col(\"Date\").like(\"%195%\")) & (col(\"Name\").like(\"%Pollock%\")\\\n",
    "                                  | col(\"Name\").like(\"%Rothko%\")  | col(\"Name\").like(\"%Kline%\") | col(\"Name\").like(\"%Still%\")\\\n",
    "                                  | col(\"Name\").like(\"%Motherwell%\") | col(\"Name\").like(\"%Franken%\") | col(\"Name\")\\\n",
    "                                  .like(\"%Mitchell%\") | col(\"Name\").like(\"%Hofmann%\") | col(\"Name\").like(\"%Rauschen%\")\\\n",
    "                                  | col(\"Name\").like(\"%Newman%\") | col(\"Name\").like(\"%Nakamura%\")), \"Abstract Expressionism\")\\\n",
    "                                  .when((col(\"Date\").like(\"%195%\") | col(\"Date\").like(\"%196%\")) & (col(\"Name\").like(\"%Warhol%\")\\\n",
    "                                  | col(\"Name\").like(\"%Licht%\") | col(\"Name\").like(\"%Franken%\") | col(\"Name\").like(\"%Hockney%\")\\\n",
    "                                  | col(\"Name\").like(\"%Thiebaud%\") | col(\"Name\").like(\"%Johns%\") | col(\"Name\").like(\"%Indian%\")\\\n",
    "                                  | col(\"Name\").like(\"%Kusam%\") | col(\"Name\").like(\"%Hamilto%\") | col(\"Name\").like(\"%Murakam%\")\\\n",
    "                                  ),\"Pop Art\")\\\n",
    "                                  .when((col(\"Date\").like(\"%196%\") | col(\"Date\").like(\"%197%\")) & (col(\"Name\").like(\"%Boetti%\")\\\n",
    "                                  | col(\"Name\").like(\"%Pistol%\") | col(\"Name\").like(\"%Merz%\") | col(\"Name\").like(\"%Burri%\")\\\n",
    "                                  | col(\"Name\").like(\"%Manzoni%\") | col(\"Name\").like(\"%Fontana%\")), \"Arte Povera\")\\\n",
    "                                  .when((col(\"Date\").like(\"%196%\") | col(\"Date\").like(\"%197%\")) & (col(\"Name\").like(\"%Tony S%\")\\\n",
    "                                  | col(\"Name\").like(\"%Kelly%\") | col(\"Name\").like(\"%Judd%\") | col(\"Name\").like(\"%Stella%\")\\\n",
    "                                  | col(\"Name\").like(\"%Laughin%\") | col(\"Name\").like(\"%Hesse%\") | col(\"Name\").like(\"%Mangol%\"))\\\n",
    "                                  ,\"Minimalism\")\\\n",
    "                                  .when((col(\"Date\").isNull() | col(\"Date\").like(\"%196%\") | col(\"Date\").like(\"%197%\"))\\\n",
    "                                  & (col(\"Name\").like(\"%Ducham%\") | col(\"Name\").like(\"%Klein%\") | col(\"Name\").like(\"%Kosuth%\")\\\n",
    "                                  | col(\"Name\").like(\"%Kawara%\") | col(\"Name\").like(\"%Baldessari%\")\\\n",
    "                                  | col(\"Name\").like(\"%Yoko Ono%\") | col(\"Name\").like(\"%Weiner%\")),\"Conceptual Art\")\\\n",
    "                                  .when(col(\"Date\").like(\"%197%\") | col(\"Date\").like(\"%198%\") | col(\"Date\").like(\"%199%\")\\\n",
    "                                  ,\"Contemporary Art\").otherwise(\"others\"))\n"
   ]
  },
  {
   "cell_type": "code",
   "execution_count": 23,
   "metadata": {},
   "outputs": [
    {
     "data": {
      "text/markdown": [
       "**Ratio of 'Paintings' per Style of the Period:**"
      ],
      "text/plain": [
       "<IPython.core.display.Markdown object>"
      ]
     },
     "metadata": {},
     "output_type": "display_data"
    },
    {
     "name": "stdout",
     "output_type": "stream",
     "text": [
      "+--------------------+-----------------+-----+\n",
      "|     Style of Period|Number of Artwork|Ratio|\n",
      "+--------------------+-----------------+-----+\n",
      "|    Contemporary Art|              387| 17.9|\n",
      "|          Surrealism|               68|  3.1|\n",
      "|              Cubism|               52|  2.4|\n",
      "|Abstract Expressi...|               52|  2.4|\n",
      "|       Expressionism|               43|  2.0|\n",
      "|             Fauvism|               40|  1.8|\n",
      "|      Conceptual Art|               37|  1.7|\n",
      "|          Minimalism|               33|  1.5|\n",
      "|             Pop Art|               32|  1.5|\n",
      "|       Impressionism|               20|  0.9|\n",
      "|         Arte Povera|                6|  0.3|\n",
      "+--------------------+-----------------+-----+\n",
      "\n"
     ]
    }
   ],
   "source": [
    "from IPython.display import display, Markdown\n",
    "from pyspark.sql.functions import when, count, col, countDistinct, desc, first, lit\n",
    "from pyspark.sql.functions import max, min, avg, stddev\n",
    "\n",
    "#  Now, figure out what is the ratio per \"Style of Period\" for Paintings in MoMA collection\n",
    "\n",
    "totalPlasticArtwork = plasticArtsStylesDF.count()\n",
    "\n",
    "display(Markdown(\"**Ratio of 'Paintings' per Style of the Period:**\"))\n",
    "plasticArtsStylesDF.where(col(\"Style of Period\")!=\"others\")\\\n",
    "                   .groupBy(\"Style of Period\").agg(count(\"Style of Period\").alias(\"Number of Artwork\")\\\n",
    "                   ,(count(\"Style of Period\")/totalPlasticArtwork*100).alias(\"Ratio\"))\\\n",
    "                   .orderBy(col(\"Number of Artwork\").desc())\\\n",
    "                   .select(\"Style of Period\",\"Number of Artwork\",round(\"Ratio\",1).alias(\"Ratio\")).show()\n"
   ]
  },
  {
   "cell_type": "markdown",
   "metadata": {},
   "source": [
    "### C. In terms of Spatial Design and Wall Sizes, dimensions of the paintings:"
   ]
  },
  {
   "cell_type": "code",
   "execution_count": 24,
   "metadata": {},
   "outputs": [
    {
     "name": "stdout",
     "output_type": "stream",
     "text": [
      "Summary of Columns: Weight and Height\n",
      "+-------+-----------------+------------------+\n",
      "|summary|      Height (cm)|        Width (cm)|\n",
      "+-------+-----------------+------------------+\n",
      "|  count|             2141|              2141|\n",
      "|   mean|123.9236047366331|131.51749151271736|\n",
      "| stddev|79.21204045608808| 151.3728718095856|\n",
      "|    min|                0|                 0|\n",
      "|    25%|          61.2776|              61.0|\n",
      "|    50%|            104.5|              99.7|\n",
      "|    75%|            181.9|             170.0|\n",
      "|    max|             99.9|              99.8|\n",
      "+-------+-----------------+------------------+\n",
      "\n"
     ]
    },
    {
     "data": {
      "text/markdown": [
       "**Information about the Dimensions of Paintings:** per 'Style of Period'"
      ],
      "text/plain": [
       "<IPython.core.display.Markdown object>"
      ]
     },
     "metadata": {},
     "output_type": "display_data"
    },
    {
     "name": "stdout",
     "output_type": "stream",
     "text": [
      "+--------------------+---------+---------+--------+--------+\n",
      "|     Style of Period|AvgHeight|MaxHeigth|AvgWidth|MaxWidth|\n",
      "+--------------------+---------+---------+--------+--------+\n",
      "|Abstract Expressi...|  165.687|     86.1| 158.919|    96.9|\n",
      "|         Arte Povera|   161.35|     41.0| 205.017|    80.3|\n",
      "|      Conceptual Art|   32.351|    55.88|  33.045|    62.5|\n",
      "|    Contemporary Art|  173.671|     99.2| 201.994|    99.7|\n",
      "|              Cubism|   93.863|     96.8|  73.437|    99.7|\n",
      "|       Expressionism|   89.865|     98.9|  86.223|    99.7|\n",
      "|             Fauvism|  102.575|     99.3|  99.912|    99.1|\n",
      "|       Impressionism|    75.27|     91.8|  76.942|    99.4|\n",
      "|          Minimalism|  138.224|     76.2| 169.867|    95.6|\n",
      "|             Pop Art|  169.611|     86.5| 152.279|    91.9|\n",
      "|          Surrealism|   89.418|     96.5|  95.001|    99.7|\n",
      "|              others|  114.732|     99.9| 119.056|    99.8|\n",
      "+--------------------+---------+---------+--------+--------+\n",
      "\n"
     ]
    }
   ],
   "source": [
    "from IPython.display import display, Markdown\n",
    "from pyspark.sql.functions import when, count, col, countDistinct, desc, first, lit\n",
    "from pyspark.sql.functions import max, min, avg, stddev\n",
    "from pyspark.sql.types import IntegerType\n",
    "\n",
    "#  Now, figure the dimensions of paintings per \"Style of Period\"\n",
    "\n",
    "print (\"Summary of Columns: Weight and Height\")\n",
    "plasticArtsStylesDF.where(~(col(\"Height (cm)\").isNull() | col(\"Width (cm)\").isNull()))\\\n",
    ".select(\"Height (cm)\",\"Width (cm)\").summary().show()\n",
    "\n",
    "\n",
    "display(Markdown(\"**Information about the Dimensions of Paintings:** per 'Style of Period'\"))\n",
    "plasticArtsStylesDF.where(~(col(\"Height (cm)\").isNull() | col(\"Width (cm)\").isNull()))\\\n",
    "                   .groupBy(\"Style of Period\")\\\n",
    "                   .agg(round(avg(\"Height (cm)\"),3).alias(\"AvgHeight\"), round(max(\"Height (cm)\"),3).alias(\"MaxHeigth\")\\\n",
    "                   ,round(avg(\"Width (cm)\"),3).alias(\"AvgWidth\"), round(max(\"Width (cm)\"),3).alias(\"MaxWidth\"))\\\n",
    "                   .orderBy(\"Style of Period\").show()"
   ]
  },
  {
   "cell_type": "markdown",
   "metadata": {},
   "source": [
    "### D. Just in case, weigth info is crucial for organizing the logistics of paintings to be picked"
   ]
  },
  {
   "cell_type": "code",
   "execution_count": 243,
   "metadata": {},
   "outputs": [
    {
     "data": {
      "text/markdown": [
       "**Information about the Weight of 'Paintings':**"
      ],
      "text/plain": [
       "<IPython.core.display.Markdown object>"
      ]
     },
     "metadata": {},
     "output_type": "display_data"
    },
    {
     "name": "stdout",
     "output_type": "stream",
     "text": [
      "+--------------+--------------+\n",
      "|MaxWeight (kg)|MinWeight (kg)|\n",
      "+--------------+--------------+\n",
      "|  112.00007334|       18.0975|\n",
      "+--------------+--------------+\n",
      "\n"
     ]
    }
   ],
   "source": [
    "from IPytho.display import display, Markdown\n",
    "from pyspark.sql.functions import when, count, col, countDistinct, desc, first, lit\n",
    "from pyspark.sql.functions import max, min, avg, stddev\n",
    "\n",
    "display(Markdown(\"**Information about the Weight of 'Paintings':**\"))\n",
    "plasticArtsStylesDF.agg(min(\"Weight (kg)\").alias(\"MaxWeight (kg)\"), max(\"Weight (kg)\").alias(\"MinWeight (kg)\")).show()"
   ]
  },
  {
   "cell_type": "code",
   "execution_count": null,
   "metadata": {},
   "outputs": [],
   "source": []
  }
 ],
 "metadata": {
  "kernelspec": {
   "display_name": "Python 3",
   "language": "python",
   "name": "python3"
  },
  "language_info": {
   "codemirror_mode": {
    "name": "ipython",
    "version": 3
   },
   "file_extension": ".py",
   "mimetype": "text/x-python",
   "name": "python",
   "nbconvert_exporter": "python",
   "pygments_lexer": "ipython3",
   "version": "3.7.3"
  }
 },
 "nbformat": 4,
 "nbformat_minor": 2
}
